{
 "cells": [
  {
   "cell_type": "markdown",
   "id": "c03c44d1-f3ad-44fe-9154-8725e9430368",
   "metadata": {},
   "source": [
    "Air quality measurements are made at a handful of stations in Allegheny County.\n",
    "\n",
    "Overdose deaths are reported within a zipcode.\n",
    "\n",
    "We want to estimate the air quality at the centroid of each zipcode in Allegheny County for every day with air quality data. (TODO: eventually use hourly data)\n",
    "\n",
    "This is a fool's errand, because zipcodes are very difficult to tie to a location in space: they are based on mail carrier routes and the USPS does not share them. It's an approximation."
   ]
  },
  {
   "cell_type": "code",
   "execution_count": 6,
   "id": "7a3e32d1-26ac-448b-8b51-1374ce1b6000",
   "metadata": {},
   "outputs": [],
   "source": [
    "import os\n",
    "\n",
    "import pandas as pd\n",
    "import geopandas as gpd\n",
    "\n",
    "from air_brain.data.get_data import DATA_DIR\n",
    "from air_brain.util.air import PM25, SO2\n",
    "from air_brain.util.loc import distance\n",
    "\n",
    "ZIPCODE_FILE = os.path.join(DATA_DIR, \"zip2latlon.csv\")"
   ]
  },
  {
   "cell_type": "code",
   "execution_count": 2,
   "id": "21d86f67-b608-4fd4-93a7-cbf9cee4af40",
   "metadata": {},
   "outputs": [],
   "source": [
    "# zipcodes, with associated point geometry\n",
    "zip_df = pd.read_csv(ZIPCODE_FILE)\n",
    "zip_gdf = gpd.GeoDataFrame(zip_df, geometry=gpd.points_from_xy(zip_df.longitude, zip_df.latitude), crs=\"EPSG:4326\")\n",
    "\n",
    "def idw(zip_gdf, air_gdf):\n",
    "    \"\"\"\n",
    "    use inverse distance weighting to estimate the AQI at each zipcode for each date\n",
    "    \"\"\"\n",
    "    # location of each measurement site\n",
    "    air_sites = air_gdf[[\"site\", \"geometry\"]].drop_duplicates()\n",
    "    air_sites.geometry = air_sites.geometry.to_crs(\"epsg:2272\")\n",
    "\n",
    "    # distance from each measurement site to each zipcode\n",
    "    idw_df = zip_gdf.copy()\n",
    "    for row in air_sites.itertuples():\n",
    "        idw_df[\"{}_dist\".format(row.site)] = idw_df.geometry.to_crs(\"epsg:2272\").distance(row.geometry)\n",
    "    idw_df = idw_df[[\"zipcode\", \"geometry\"] + [\"{}_dist\".format(x) for x in air_sites.site]]\n",
    "\n",
    "    # generate the dataframe of zipcode x date for each measurement\n",
    "    by_site = air_gdf.pivot(index=\"date\", columns=\"site\", values=\"index_value\").reset_index()\n",
    "    idw_df = idw_df.merge(by_site, how=\"cross\")\n",
    "\n",
    "    # compute the IDW (quadratic, for dispersion)\n",
    "    idw_df[\"num\"] = 0\n",
    "    idw_df[\"denom\"] = 0\n",
    "    for site in air_sites.site:\n",
    "        idw_df[\"num\"] += idw_df[site].fillna(0) * (1 / idw_df[\"{}_dist\".format(site)])\n",
    "        idw_df[\"denom\"] += idw_df[site].notna() * (1 / idw_df[\"{}_dist\".format(site)])\n",
    "    idw_df[\"idw\"] = idw_df.num / idw_df.denom\n",
    "\n",
    "    return idw_df[[\"date\", \"zipcode\", \"geometry\", \"idw\"]]"
   ]
  },
  {
   "cell_type": "code",
   "execution_count": 4,
   "id": "bba498c4-b279-49f4-8daf-9792087b2479",
   "metadata": {},
   "outputs": [],
   "source": [
    "# PM 2.5\n",
    "pm25 = idw(zip_gdf, PM25().daily_air_gdf())\n",
    "pm25.to_csv(os.path.join(DATA_DIR, \"pm25_zipcode.csv\"), index=False)"
   ]
  },
  {
   "cell_type": "code",
   "execution_count": 7,
   "id": "c07046e4-0d85-438a-9992-d8e2805b458a",
   "metadata": {},
   "outputs": [],
   "source": [
    "# SO2\n",
    "so2 = idw(zip_gdf, SO2().daily_air_gdf())\n",
    "so2.to_csv(os.path.join(DATA_DIR, \"so2_zipcode.csv\"), index=False)"
   ]
  }
 ],
 "metadata": {
  "kernelspec": {
   "display_name": "Python 3 (ipykernel)",
   "language": "python",
   "name": "python3"
  },
  "language_info": {
   "codemirror_mode": {
    "name": "ipython",
    "version": 3
   },
   "file_extension": ".py",
   "mimetype": "text/x-python",
   "name": "python",
   "nbconvert_exporter": "python",
   "pygments_lexer": "ipython3",
   "version": "3.11.6"
  }
 },
 "nbformat": 4,
 "nbformat_minor": 5
}
